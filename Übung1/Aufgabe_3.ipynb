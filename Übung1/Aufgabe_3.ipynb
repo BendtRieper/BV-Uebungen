{
  "nbformat": 4,
  "nbformat_minor": 0,
  "metadata": {
    "colab": {
      "provenance": [],
      "authorship_tag": "ABX9TyMtOuyAgysOw1mlXR0ViPZ3",
      "include_colab_link": true
    },
    "kernelspec": {
      "name": "python3",
      "display_name": "Python 3"
    },
    "language_info": {
      "name": "python"
    }
  },
  "cells": [
    {
      "cell_type": "markdown",
      "metadata": {
        "id": "view-in-github",
        "colab_type": "text"
      },
      "source": [
        "<a href=\"https://colab.research.google.com/github/BendtRieper/BV-Uebungen/blob/main/Aufgabe_3.ipynb\" target=\"_parent\"><img src=\"https://colab.research.google.com/assets/colab-badge.svg\" alt=\"Open In Colab\"/></a>"
      ]
    },
    {
      "cell_type": "code",
      "execution_count": 4,
      "metadata": {
        "colab": {
          "base_uri": "https://localhost:8080/"
        },
        "id": "GVgOGMc3Gvgq",
        "outputId": "120ea676-fee1-44ac-a972-e6ae7f183a0b"
      },
      "outputs": [
        {
          "output_type": "execute_result",
          "data": {
            "text/plain": [
              "50"
            ]
          },
          "metadata": {},
          "execution_count": 4
        }
      ],
      "source": [
        "#Schritt 1: Liste mit 99 Werten von 101 bis einschließlich 199\n",
        "l = [i for i in range(101,200,1)]\n",
        "len(l)\n",
        "\n",
        "#Schritt 2: Funktion mit Summe über alle Elemente\n",
        "def summe(l):\n",
        "  s = 0\n",
        "  for x in l:\n",
        "    s = s+x\n",
        "  return s\n",
        "summe(l)\n",
        "\n",
        "#Schritt 3: Mittelwert bestimmen\n",
        "def mittelwert(l):\n",
        "  return summe(l)/len(l)\n",
        "mittelwert(l)  \n",
        "\n",
        "#Schritt 4: Anzahl durch 5 Teilbare Elemente\n",
        "def durch5teilbar(l):\n",
        "  anzahlElemente = 0\n",
        "  for i in l:\n",
        "    if i % 5 == 0:\n",
        "      anzahlElemente=anzahlElemente+1\n",
        "  return anzahlElemente\n",
        "durch5teilbar(l)\n",
        "\n",
        "#Schritt 5: Primzahlen finden\n",
        "#Prüft ob einen Zahl eine Primzahl ist\n",
        "def istPrimzahl(n):\n",
        "  if n > 1:\n",
        "    for i in range(2, int(n/2)+1):\n",
        "      if n % i == 0:\n",
        "        return False\n",
        "      else:\n",
        "        return True\n",
        "  else:\n",
        "    return False\n",
        "\n",
        "#Durchläuft alle Elemente der Liste und ruft für jedes Element istPrimzahl auf\n",
        "def anzahlPrimzahlen(l):\n",
        "  anzazhlPrim = 0\n",
        "  for i in l:\n",
        "    if istPrimzahl(i) == True:\n",
        "      anzazhlPrim = anzazhlPrim + 1\n",
        "  return anzazhlPrim\n",
        "\n",
        "anzahlPrimzahlen(l)\n",
        "\n"
      ]
    }
  ]
}
