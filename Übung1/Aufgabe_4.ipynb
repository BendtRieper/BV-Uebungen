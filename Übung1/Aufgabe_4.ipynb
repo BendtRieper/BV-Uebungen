{
  "nbformat": 4,
  "nbformat_minor": 0,
  "metadata": {
    "colab": {
      "provenance": [],
      "authorship_tag": "ABX9TyNidT5XYo1SQcA96VsCIB5I",
      "include_colab_link": true
    },
    "kernelspec": {
      "name": "python3",
      "display_name": "Python 3"
    },
    "language_info": {
      "name": "python"
    }
  },
  "cells": [
    {
      "cell_type": "markdown",
      "metadata": {
        "id": "view-in-github",
        "colab_type": "text"
      },
      "source": [
        "<a href=\"https://colab.research.google.com/github/BendtRieper/BV-Uebungen/blob/main/Aufgabe_4.ipynb\" target=\"_parent\"><img src=\"https://colab.research.google.com/assets/colab-badge.svg\" alt=\"Open In Colab\"/></a>"
      ]
    },
    {
      "cell_type": "code",
      "execution_count": 23,
      "metadata": {
        "colab": {
          "base_uri": "https://localhost:8080/"
        },
        "id": "xuwpIaKWHpzg",
        "outputId": "96a07b7e-dd5a-485a-8ddc-b06f4f51d7b9"
      },
      "outputs": [
        {
          "output_type": "stream",
          "name": "stderr",
          "text": [
            "<ipython-input-23-4500423e7547>:20: DeprecationWarning: `np.int` is a deprecated alias for the builtin `int`. To silence this warning, use `int` by itself. Doing this will not modify any behavior and is safe. When replacing `np.int`, you may wish to use e.g. `np.int64` or `np.int32` to specify the precision. If you wish to review your current use, check the release note link for additional information.\n",
            "Deprecated in NumPy 1.20; for more details and guidance: https://numpy.org/devdocs/release/1.20.0-notes.html#deprecations\n",
            "  m = m.astype(np.int)\n"
          ]
        },
        {
          "output_type": "execute_result",
          "data": {
            "text/plain": [
              "array([[  0,   9],\n",
              "       [ 36,  81],\n",
              "       [144, 225],\n",
              "       [324, 441],\n",
              "       [576, 729]])"
            ]
          },
          "metadata": {},
          "execution_count": 23
        }
      ],
      "source": [
        "import numpy as np\n",
        "\n",
        "#Schritt 1: Vektor mit 42 5en\n",
        "u = np.array([5]*42)\n",
        "\n",
        "#Schritt 2: Vektor aus Aufgabe\n",
        "v = np.array([0,1,2,3,4,5,6,7,8,9])\n",
        "v.dtype\n",
        "#DatenTyp ist hier: dtype('int64'), also Integer\n",
        "\n",
        "#Schritt 3: v in 2D Array umwandeln (5 Zeilen, 2 Spalten)\n",
        "m = v.reshape(5,2)\n",
        "\n",
        "# Schritt 4: m mit 3.1 Multiplizieren\n",
        "m = m*3.1\n",
        "m.dtype\n",
        "#DatenTyp ist hier:. dtype('float64'), also Float\n",
        "\n",
        "#Schritt 5: Ändern des Datentyps in np.int\n",
        "m = m.astype(np.int)\n",
        "m.dtype\n",
        "\n",
        "#Schritt 6: Hadamard-Produkt berechen\n",
        "np.multiply(m,m)"
      ]
    }
  ]
}
