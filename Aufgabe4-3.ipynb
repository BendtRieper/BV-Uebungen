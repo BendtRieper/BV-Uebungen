{
 "cells": [
  {
   "cell_type": "code",
   "execution_count": 14,
   "metadata": {},
   "outputs": [
    {
     "data": {
      "text/plain": [
       "<matplotlib.image.AxesImage at 0x16c72b89f60>"
      ]
     },
     "execution_count": 14,
     "metadata": {},
     "output_type": "execute_result"
    },
    {
     "data": {
      "image/png": "[encoded data removed]",
      "text/plain": [
       "<Figure size 640x480 with 1 Axes>"
      ]
     },
     "metadata": {},
     "output_type": "display_data"
    }
   ],
   "source": [
    "import numpy as np\n",
    "from skimage.io import imread\n",
    "import matplotlib.pyplot as plt\n",
    "\n",
    "def scale_image_nearest_neighbor(image, s):\n",
    "    height, width = image.shape[:2]\n",
    "    new_height = int(height * s) #neue Skalierte Höhe setzen\n",
    "    new_width = int(width * s) #neue Skalierte Breite setzen\n",
    "    new_image = np.zeros((new_height, new_width), dtype=image.dtype) #neues 2D Array mit den neuen Maßen erstellen\n",
    "    for i in range(new_height):\n",
    "        for j in range(new_width):\n",
    "            x = int(i / s) #wir teilen im neuen durch s um die Position des Pixels im Ursprungsbild zu finden\n",
    "            y = int(j / s)\n",
    "            new_image[i, j] = image[x, y] #zuweisung im neuen Bild\n",
    "    return new_image\n",
    "\n",
    "img = imread('tv.png')\n",
    "scaled_img = scale_image_nearest_neighbor(img, 0.5)\n",
    "#scaled_img = scale_image_nearest_neighbor(scaled_img, 2) #für Aufgabenteil 3\n",
    "plt.imshow(scaled_img,cmap='gray', vmin=0, vmax = 255)"
   ]
  },
  {
   "attachments": {},
   "cell_type": "markdown",
   "metadata": {},
   "source": [
    "2. Inforamtionen werden nicht gewonnen. Es wird lediglich die größe des Bildes verändert. Die Interpolation fügt keine Informationen hinzu\n",
    "3. Hier gehen Informationen verloren. Da bei der Verkleinerung Pixel verloren gehen, die bei der anschließenden Vergrößerung wieder hergestellt werden müssen, wird das Bild deutlich verpixelter. "
   ]
  }
 ],
 "metadata": {
  "kernelspec": {
   "display_name": "base",
   "language": "python",
   "name": "python3"
  },
  "language_info": {
   "codemirror_mode": {
    "name": "ipython",
    "version": 3
   },
   "file_extension": ".py",
   "mimetype": "text/x-python",
   "name": "python",
   "nbconvert_exporter": "python",
   "pygments_lexer": "ipython3",
   "version": "3.10.9"
  },
  "orig_nbformat": 4
 },
 "nbformat": 4,
 "nbformat_minor": 2
}
