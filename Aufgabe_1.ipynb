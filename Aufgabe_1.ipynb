{
  "nbformat": 4,
  "nbformat_minor": 0,
  "metadata": {
    "colab": {
      "provenance": []
    },
    "kernelspec": {
      "name": "python3",
      "display_name": "Python 3"
    },
    "language_info": {
      "name": "python"
    }
  },
  "cells": [
    {
      "cell_type": "code",
      "execution_count": 6,
      "metadata": {
        "colab": {
          "base_uri": "https://localhost:8080/"
        },
        "id": "5fgUk-iN2m-1",
        "outputId": "37dbe952-e030-4da9-aa08-adc6f12ba6c3"
      },
      "outputs": [
        {
          "output_type": "stream",
          "name": "stdout",
          "text": [
            "['i', 'n', 'f', 'o', 'r', 'm', 'a', 't', 'i', 'k', 'u', 'm']\n"
          ]
        }
      ],
      "source": [
        "# Schritt 1: Liste erstellen\n",
        "l = ['t','o','a','r','m','u','m','i','k','n','i','f']\n",
        "\n",
        "# Schritt 2: Liste aufteilen\n",
        "a = l[0:5]\n",
        "b = l[5:7]\n",
        "c = l[7:13]\n",
        "\n",
        "#Schritt 3: Listen zusammenfügen und extrahieren\n",
        "ca = c + a\n",
        "d = ca[::2]\n",
        "e = ca[1::2]\n",
        "\n",
        "# Schritt 4: Liste e umdrehen\n",
        "e= e[::-1]\n",
        "\n",
        "# Schritt  5: Zusammenfügen\n",
        "\n",
        "result = d + e +b\n",
        "print(result)"
      ]
    }
  ]
}