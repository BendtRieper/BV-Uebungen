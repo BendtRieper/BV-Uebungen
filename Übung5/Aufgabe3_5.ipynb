{
 "cells": [
  {
   "cell_type": "code",
   "execution_count": null,
   "metadata": {},
   "outputs": [],
   "source": [
    "import matplotlib.pyplot as plt\n",
    "from skimage import data\n",
    "from skimage import io\n",
    "from skimage import img_as_float, img_as_ubyte, img_as_uint\n",
    "from skimage.color import rgb2gray\n",
    "import math as math\n",
    "import skimage\n",
    "import numpy as np\n",
    "import glob"
   ]
  },
  {
   "cell_type": "code",
   "execution_count": null,
   "metadata": {},
   "outputs": [],
   "source": [
    "def GrauwertRechner(img_pfad):\n",
    "    img = io.imread(img_pfad)\n",
    "    img_grau = rgb2gray(img)\n",
    "    \n",
    "    # Durchschnittswert aller Pixel im Graustufenimg\n",
    "    mittelwert_grauwert = np.mean(img_grau)\n",
    "    return mittelwert_grauwert"
   ]
  },
  {
   "cell_type": "code",
   "execution_count": null,
   "metadata": {},
   "outputs": [],
   "source": [
    "def berechne_mittelwert_und_standardabweichung(img_dateien):\n",
    "    mittelwerte_grauwerte = []\n",
    "\n",
    "    for img in img_dateien:\n",
    "        mittelwert_grauwert = berechne_mittelwert_grauwert(img)\n",
    "        mittelwerte_grauwerte.append(mittelwert_grauwert)\n",
    "\n",
    "    mittelwerte_grauwerte = np.array(mittelwerte_grauwerte)\n",
    "    mittelwert = np.mean(mittelwerte_grauwerte)\n",
    "    standardabweichung = np.std(mittelwerte_grauwerte)\n",
    "\n",
    "    return mittelwert, standardabweichung"
   ]
  },
  {
   "cell_type": "code",
   "execution_count": null,
   "metadata": {},
   "outputs": [],
   "source": [
    "lowenzahn =  glob.glob(\"./blumen/lowenzahn/*.jpg\")\n",
    "print(calculate_mean_and_stddev(lowenzahn))\n",
    "malven =  glob.glob(\"./blumen/malven/*.jpg\")\n",
    "print(calculate_mean_and_stddev(malven))"
   ]
  },
  {
   "cell_type": "code",
   "execution_count": null,
   "metadata": {},
   "outputs": [],
   "source": [
    "Der Vergleich von Graustufendaten ist zwar hilfreich, hilft aber nicht viel bei der Entscheidung zwischen den beiden"
   ]
  },
  {
   "cell_type": "code",
   "execution_count": null,
   "metadata": {},
   "outputs": [],
   "source": [
    "import os\n",
    "from skimage import io\n",
    "import numpy as np\n",
    "\n",
    "def berechne_mittelwert_kanal(img_pfad, kanal):\n",
    "    img = io.imread(img_pfad)\n",
    "    kanalwerte = img[:,:,kanal]\n",
    "    mittelwert_kanal = np.mean(kanalwerte)\n",
    "    return mittelwert_kanal\n",
    "\n",
    "def mittelwert_und_Standardabweischung_kanal(img_dateien, kanal):\n",
    "    mittelwerte_kanäle = []\n",
    "\n",
    "    for img_datei in img_dateien:\n",
    "        mittelwert_kanal = berechne_mittelwert_kanal(img_datei, kanal)\n",
    "        mittelwerte_kanäle.append(mittelwert_kanal)\n",
    "\n",
    "    mittelwerte_kanäle = np.array(mittelwerte_kanäle)\n",
    "    mittelwert = np.mean(mittelwerte_kanäle)\n",
    "    standardabweichung = np.std(mittelwerte_kanäle)\n",
    "\n",
    "    return mittelwert, standardabweichung\n"
   ]
  },
  {
   "cell_type": "code",
   "execution_count": null,
   "metadata": {},
   "outputs": [],
   "source": [
    "lowenzahn =  glob.glob(\"./blumen/lowenzahn/*.jpg\")\n",
    "print(mittelwert_und_Standardabweischung_kanal(lowenzahn,0))\n",
    "malven =  glob.glob(\"./blumen/malven/*.jpg\")\n",
    "print(mittelwert_und_Standardabweischung_kanal(malven,0))\n",
    "lowenzahn =  glob.glob(\"./blumen/lowenzahn/*.jpg\")\n",
    "print(mittelwert_und_Standardabweischung_kanal(lowenzahn,1))\n",
    "malven =  glob.glob(\"./blumen/malven/*.jpg\")\n",
    "print(mittelwert_und_Standardabweischung_kanal(malven,1))\n",
    "lowenzahn =  glob.glob(\"./blumen/lowenzahn/*.jpg\")\n",
    "print(mittelwert_und_Standardabweischung_kanal(lowenzahn,2))\n",
    "malven =  glob.glob(\"./blumen/malven/*.jpg\")\n",
    "print(mittelwert_und_Standardabweischung_kanal(malven,2))"
   ]
  },
  {
   "cell_type": "code",
   "execution_count": null,
   "metadata": {},
   "outputs": [],
   "source": [
    "Am sinnvollsten ist es, entweder grüne oder blaue Kanäle zu vergleichen (eine Blume ist gelb, die andere rosa)."
   ]
  }
 ],
 "metadata": {
  "kernelspec": {
   "display_name": "Python 3.10.8 64-bit",
   "language": "python",
   "name": "python3"
  },
  "language_info": {
   "name": "python",
   "version": "3.10.8"
  },
  "orig_nbformat": 4,
  "vscode": {
   "interpreter": {
    "hash": "aee8b7b246df8f9039afb4144a1f6fd8d2ca17a180786b69acc140d282b71a49"
   }
  }
 },
 "nbformat": 4,
 "nbformat_minor": 2
}
