{
 "cells": [
  {
   "attachments": {},
   "cell_type": "markdown",
   "metadata": {},
   "source": [
    "3.1 Grauwerte vergleichen"
   ]
  },
  {
   "cell_type": "code",
   "execution_count": 14,
   "metadata": {},
   "outputs": [
    {
     "name": "stdout",
     "output_type": "stream",
     "text": [
      "Lowenzahn Durchschnitt =  0.39730447605268443 Lowenzahn Standartabweichung =  0.09083026539752168\n",
      "Malven Durchschnitt =  0.38519059904197095 Malven Standartabweichung =  0.07866040209661532\n"
     ]
    }
   ],
   "source": [
    "import numpy as np\n",
    "from skimage import io, color\n",
    "import glob\n",
    "\n",
    "def berechne_grauwet_durchschnitt(bilder):\n",
    "    pfad = glob.glob(f'./{bilder}/*.jpg')\n",
    "    durchsnitt_grauwerte = []\n",
    "    for path in pfad:\n",
    "        img = io.imread(path)\n",
    "        gray_img = color.rgb2gray(img) #Konvertierung zu Graubild\n",
    "        durchsnitt_grauwert = np.mean(gray_img) #Mittelwerterrechen von einem Bild\n",
    "        durchsnitt_grauwerte.append(durchsnitt_grauwert) # Mittelwert in Liste speichern zum Weiterverarbeiten\n",
    "    return np.mean(durchsnitt_grauwerte), np.std(durchsnitt_grauwerte) #Mittelwert und Standartabweichung von allen Bildern\n",
    "\n",
    "lowenzahn_durchschnitt, lowenzahn_std = berechne_grauwet_durchschnitt('blumen\\lowenzahn')\n",
    "malven_durchschnitt, malven_std = berechne_grauwet_durchschnitt('blumen\\malven')\n",
    "\n",
    "print ('Lowenzahn Durchschnitt = ' , lowenzahn_durchschnitt, 'Lowenzahn Standartabweichung = ',lowenzahn_std)\n",
    "print ('Malven Durchschnitt = ' , malven_durchschnitt, 'Malven Standartabweichung = ',malven_std)"
   ]
  },
  {
   "attachments": {},
   "cell_type": "markdown",
   "metadata": {},
   "source": [
    "3.2 Implementation ändern mit Farbwerten"
   ]
  },
  {
   "cell_type": "code",
   "execution_count": 20,
   "metadata": {},
   "outputs": [
    {
     "name": "stdout",
     "output_type": "stream",
     "text": [
      "Lowenzahn Durchschnitt =  0.19879188990981886 Lowenzahn Standartabweichung =  0.0350342195560253\n",
      "Malven Durchschnitt =  0.5882833346580176 Malven Standartabweichung =  0.10959621083939243\n"
     ]
    }
   ],
   "source": [
    "def berechne_farbwert_durchschnitt(bilder):\n",
    "    pfad = glob.glob(f'./{bilder}/*.jpg')\n",
    "    durchschnitt_farbwerte = []\n",
    "    for path in pfad:\n",
    "        img = io.imread(path)\n",
    "        farb_img = color.rgb2hsv(img) #Konvertierung zu HSV \n",
    "        hue = farb_img[:,:,0] #Hue extrahieren\n",
    "        durchsnitt_farbwert = np.mean(hue) #Mittelwerterrechen von einem Bild\n",
    "        durchschnitt_farbwerte.append(durchsnitt_farbwert) # Mittelwert in Liste speichern zum Weiterverarbeiten\n",
    "    return np.mean(durchschnitt_farbwerte), np.std(durchschnitt_farbwerte) #Mittelwert und Standartabweichung von allen Bildern\n",
    "\n",
    "lowenzahn_durchschnitt_f, lowenzahn_std_f = berechne_farbwert_durchschnitt('blumen\\lowenzahn')\n",
    "malven_durchschnitt_f, malven_std_f = berechne_farbwert_durchschnitt('blumen\\malven')\n",
    "\n",
    "print ('Lowenzahn Durchschnitt = ' , lowenzahn_durchschnitt_f, 'Lowenzahn Standartabweichung = ',lowenzahn_std_f)\n",
    "print ('Malven Durchschnitt = ' , malven_durchschnitt_f, 'Malven Standartabweichung = ',malven_std_f)"
   ]
  },
  {
   "attachments": {},
   "cell_type": "markdown",
   "metadata": {},
   "source": [
    "In diesem Kontext macht es Sinn, dasa HSV Farbformat zu nutzen, da wir so direkt auf den Hue Channel zugreifen könnnen und sund so umständliche Berechnungen mit dem RGB Farbraum ersparen.\n",
    "\n",
    "Der Unterschied bei den Löwenzahnbildern ist wahrscheinlich die Biene die auf einigen Bilder zu sehnen ist. (Bilder: 4,5,11,17,33)\n",
    "Bei den Malven ist es wahrscheinlich die eine weiße Blume (Bild 35), wie auch das Bild 45 welches sehr viele weißtone hat.\n",
    "\n",
    "Es ist also nicht allein möglich, Löwenzahn und Malvenbilder mit dem Durchschnitt zu klassifizieren. Da kleine Dinge oder ähnlich aussehende Bilder diesen sehr schnell abweichen lassen."
   ]
  }
 ],
 "metadata": {
  "kernelspec": {
   "display_name": "base",
   "language": "python",
   "name": "python3"
  },
  "language_info": {
   "codemirror_mode": {
    "name": "ipython",
    "version": 3
   },
   "file_extension": ".py",
   "mimetype": "text/x-python",
   "name": "python",
   "nbconvert_exporter": "python",
   "pygments_lexer": "ipython3",
   "version": "3.10.9"
  },
  "orig_nbformat": 4
 },
 "nbformat": 4,
 "nbformat_minor": 2
}
