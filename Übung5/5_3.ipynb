{
 "cells": [
  {
   "cell_type": "code",
   "execution_count": 13,
   "metadata": {},
   "outputs": [],
   "source": [
    "import numpy as np\n",
    "from skimage import io, color\n",
    "import glob\n",
    "\n",
    "def berechne_grauwet_durchschnitt(bilder):\n",
    "    pfad = glob.glob(f'./{bilder}/*.jpg')\n",
    "    mean_gray_values = []\n",
    "    for path in pfad:\n",
    "        img = io.imread(path)\n",
    "        gray_image = color.rgb2gray(img) #Konvertierung zu Graubild\n",
    "        mean_gray_value = np.mean(gray_image) #Mittelwerterrechen von einem Bild\n",
    "        mean_gray_values.append(mean_gray_value) # Mittelwert in Liste speichern zum Weiterverarbeiten\n",
    "    return np.mean(mean_gray_values), np.std(mean_gray_values) #Mittelwert und Standartabweichung von allen Bildern\n",
    "\n",
    "lowenzahn_durchschnitt, lowenzahn_std = berechne_grauwet_durchschnitt('blumen\\lowenzahn')\n",
    "malven_durchschnitt, malven_std = berechne_grauwet_durchschnitt('blumen\\malven')\n",
    "\n",
    "print ('Lowenzahn Durchschnitt = ' , lowenzahn_durchschnitt, 'Lowenzahn Standartabweichung = ',lowenzahn_std)\n",
    "print ('Malven Durchschnitt = ' , malven_durchschnitt, 'Malven Standartabweichung = ',malven_std)"
   ]
  }
 ],
 "metadata": {
  "kernelspec": {
   "display_name": "base",
   "language": "python",
   "name": "python3"
  },
  "language_info": {
   "codemirror_mode": {
    "name": "ipython",
    "version": 3
   },
   "file_extension": ".py",
   "mimetype": "text/x-python",
   "name": "python",
   "nbconvert_exporter": "python",
   "pygments_lexer": "ipython3",
   "version": "3.10.9"
  },
  "orig_nbformat": 4
 },
 "nbformat": 4,
 "nbformat_minor": 2
}
