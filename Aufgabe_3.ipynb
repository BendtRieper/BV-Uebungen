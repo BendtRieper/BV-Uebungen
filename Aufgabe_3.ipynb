{
  "nbformat": 4,
  "nbformat_minor": 0,
  "metadata": {
    "colab": {
      "provenance": [],
      "authorship_tag": "ABX9TyPfZUVNqPvTJsWdoQjte0Pc",
      "include_colab_link": true
    },
    "kernelspec": {
      "name": "python3",
      "display_name": "Python 3"
    },
    "language_info": {
      "name": "python"
    }
  },
  "cells": [
    {
      "cell_type": "markdown",
      "metadata": {
        "id": "view-in-github",
        "colab_type": "text"
      },
      "source": [
        "<a href=\"https://colab.research.google.com/github/BendtRieper/BV-Uebungen/blob/main/Aufgabe_3.ipynb\" target=\"_parent\"><img src=\"https://colab.research.google.com/assets/colab-badge.svg\" alt=\"Open In Colab\"/></a>"
      ]
    },
    {
      "cell_type": "code",
      "execution_count": 20,
      "metadata": {
        "colab": {
          "base_uri": "https://localhost:8080/"
        },
        "id": "GVgOGMc3Gvgq",
        "outputId": "8aef7572-b2cf-4ddb-f8e7-afd182fcdc14"
      },
      "outputs": [
        {
          "output_type": "execute_result",
          "data": {
            "text/plain": [
              "19"
            ]
          },
          "metadata": {},
          "execution_count": 20
        }
      ],
      "source": [
        "#Schritt 1: Liste mit 99 Werten von 101 bis einschließlich 199\n",
        "l = [i for i in range(101,200,1)]\n",
        "len(l)\n",
        "\n",
        "#Schritt 2: Funktion mit Summe über alle Elemente\n",
        "def summe(l):\n",
        "  s = 0\n",
        "  for x in l:\n",
        "    s = s+x\n",
        "  return s\n",
        "summe(l)\n",
        "\n",
        "#Schritt 3: Mittelwert bestimmen\n",
        "def mittelwert(l):\n",
        "  return summe(l)/len(l)\n",
        "mittelwert(l)  \n",
        "\n",
        "#Schritt 4: Anzahl durch 5 Teilbare Elemente\n",
        "def durch5teilbar(l):\n",
        "  anzahlElemente = 0\n",
        "  for i in l:\n",
        "    if i % 5 == 0:\n",
        "      anzahlElemente=anzahlElemente+1\n",
        "  return anzahlElemente\n",
        "durch5teilbar(l)\n"
      ]
    }
  ]
}